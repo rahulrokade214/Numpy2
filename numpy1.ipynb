{
 "cells": [
  {
   "cell_type": "code",
   "execution_count": 2,
   "id": "ab9dd274-b250-4bad-ab28-f5e7d708a4d7",
   "metadata": {},
   "outputs": [],
   "source": [
    "import numpy as np"
   ]
  },
  {
   "cell_type": "code",
   "execution_count": 3,
   "id": "d6dc690f-ebbd-4196-83d4-8d7868274606",
   "metadata": {},
   "outputs": [],
   "source": [
    "l = [1,2,3,4,5]"
   ]
  },
  {
   "cell_type": "code",
   "execution_count": 4,
   "id": "7237e3ef-3de2-4365-a1bd-313587cbb900",
   "metadata": {},
   "outputs": [],
   "source": [
    "ar = np.array(l)"
   ]
  },
  {
   "cell_type": "code",
   "execution_count": 5,
   "id": "07487a77-1bf1-446e-8367-c81e4651e110",
   "metadata": {},
   "outputs": [
    {
     "data": {
      "text/plain": [
       "numpy.ndarray"
      ]
     },
     "execution_count": 5,
     "metadata": {},
     "output_type": "execute_result"
    }
   ],
   "source": [
    "type(ar)"
   ]
  },
  {
   "cell_type": "code",
   "execution_count": 9,
   "id": "aa727f4c-32f4-4d5e-9b07-beff4d748c37",
   "metadata": {},
   "outputs": [],
   "source": [
    "a = [1,2,3,4]"
   ]
  },
  {
   "cell_type": "code",
   "execution_count": 10,
   "id": "de8a5f2c-fa9e-4adc-b398-4b8015c5aafb",
   "metadata": {},
   "outputs": [],
   "source": [
    "c = np.copy(a)       #deep copy"
   ]
  },
  {
   "cell_type": "code",
   "execution_count": 11,
   "id": "6b69fbac-c94a-4221-9f13-ed86a6949ef7",
   "metadata": {},
   "outputs": [
    {
     "data": {
      "text/plain": [
       "array([1, 2, 3, 4])"
      ]
     },
     "execution_count": 11,
     "metadata": {},
     "output_type": "execute_result"
    }
   ],
   "source": [
    "c"
   ]
  },
  {
   "cell_type": "code",
   "execution_count": 12,
   "id": "6e791281-f6a5-403a-8343-825b8176c42d",
   "metadata": {},
   "outputs": [],
   "source": [
    "a[1]=100"
   ]
  },
  {
   "cell_type": "code",
   "execution_count": 13,
   "id": "3224e05f-a74f-4ab0-bd9f-59c5081cfc32",
   "metadata": {},
   "outputs": [
    {
     "data": {
      "text/plain": [
       "array([1, 2, 3, 4])"
      ]
     },
     "execution_count": 13,
     "metadata": {},
     "output_type": "execute_result"
    }
   ],
   "source": [
    "c"
   ]
  },
  {
   "cell_type": "code",
   "execution_count": 14,
   "id": "27b49150-606b-4421-b254-5553457d7f21",
   "metadata": {},
   "outputs": [
    {
     "data": {
      "text/plain": [
       "[1, 100, 3, 4]"
      ]
     },
     "execution_count": 14,
     "metadata": {},
     "output_type": "execute_result"
    }
   ],
   "source": [
    "a"
   ]
  },
  {
   "cell_type": "code",
   "execution_count": 15,
   "id": "da21f3a9-34a3-4cf7-8950-8ce29a0e1e0a",
   "metadata": {},
   "outputs": [],
   "source": [
    "c[0] = 200"
   ]
  },
  {
   "cell_type": "code",
   "execution_count": 16,
   "id": "e85bca4d-4840-40fe-88f4-209f836b6657",
   "metadata": {},
   "outputs": [
    {
     "data": {
      "text/plain": [
       "array([200,   2,   3,   4])"
      ]
     },
     "execution_count": 16,
     "metadata": {},
     "output_type": "execute_result"
    }
   ],
   "source": [
    "c"
   ]
  },
  {
   "cell_type": "code",
   "execution_count": 17,
   "id": "9e9f4400-8ba8-4e20-8645-a0128f4578a3",
   "metadata": {},
   "outputs": [
    {
     "data": {
      "text/plain": [
       "[1, 100, 3, 4]"
      ]
     },
     "execution_count": 17,
     "metadata": {},
     "output_type": "execute_result"
    }
   ],
   "source": [
    "a"
   ]
  },
  {
   "cell_type": "code",
   "execution_count": 18,
   "id": "6446c9e6-cc42-47da-a6c2-c3f04d398cf6",
   "metadata": {},
   "outputs": [
    {
     "data": {
      "text/plain": [
       "array([[ True, False, False],\n",
       "       [False,  True, False],\n",
       "       [False, False,  True]])"
      ]
     },
     "execution_count": 18,
     "metadata": {},
     "output_type": "execute_result"
    }
   ],
   "source": [
    "np.fromfunction(lambda i,j : i==j ,(3,3))"
   ]
  },
  {
   "cell_type": "code",
   "execution_count": 19,
   "id": "e46db0e7-d8a9-43a4-b804-f29e7b4cb6e9",
   "metadata": {},
   "outputs": [
    {
     "data": {
      "text/plain": [
       "array([[0., 0., 0.],\n",
       "       [0., 1., 2.],\n",
       "       [0., 2., 4.]])"
      ]
     },
     "execution_count": 19,
     "metadata": {},
     "output_type": "execute_result"
    }
   ],
   "source": [
    "np.fromfunction(lambda i,j : i*j ,(3,3))"
   ]
  },
  {
   "cell_type": "code",
   "execution_count": 20,
   "id": "db1c7f2c-0bbd-483c-b2f5-ae921a24fea9",
   "metadata": {},
   "outputs": [
    {
     "data": {
      "text/plain": [
       "array([[0., 1., 2.],\n",
       "       [1., 2., 3.],\n",
       "       [2., 3., 4.]])"
      ]
     },
     "execution_count": 20,
     "metadata": {},
     "output_type": "execute_result"
    }
   ],
   "source": [
    "np.fromfunction(lambda i,j : i+j ,(3,3))"
   ]
  },
  {
   "cell_type": "code",
   "execution_count": 21,
   "id": "a667e2ca-7a73-4f01-b346-528c986178c3",
   "metadata": {},
   "outputs": [],
   "source": [
    "w = np.fromfunction(lambda i,j : i-j ,(3,3))"
   ]
  },
  {
   "cell_type": "code",
   "execution_count": 22,
   "id": "44ba0ffd-189a-40dd-88f4-3c8810f4b6dc",
   "metadata": {},
   "outputs": [
    {
     "data": {
      "text/plain": [
       "array([[ 0., -1., -2.],\n",
       "       [ 1.,  0., -1.],\n",
       "       [ 2.,  1.,  0.]])"
      ]
     },
     "execution_count": 22,
     "metadata": {},
     "output_type": "execute_result"
    }
   ],
   "source": [
    "w"
   ]
  },
  {
   "cell_type": "code",
   "execution_count": 23,
   "id": "a9b2664f-d200-4248-bb1e-978e8a940582",
   "metadata": {},
   "outputs": [
    {
     "data": {
      "text/plain": [
       "2"
      ]
     },
     "execution_count": 23,
     "metadata": {},
     "output_type": "execute_result"
    }
   ],
   "source": [
    "w.ndim"
   ]
  },
  {
   "cell_type": "code",
   "execution_count": 24,
   "id": "1354d780-b7c7-43a5-8fa1-e54389de6b72",
   "metadata": {},
   "outputs": [],
   "source": [
    "iterable = (i*i for i in range(5))"
   ]
  },
  {
   "cell_type": "code",
   "execution_count": 25,
   "id": "592584bf-0852-4012-a407-b33af8a1af38",
   "metadata": {},
   "outputs": [
    {
     "data": {
      "text/plain": [
       "array([ 0,  1,  4,  9, 16])"
      ]
     },
     "execution_count": 25,
     "metadata": {},
     "output_type": "execute_result"
    }
   ],
   "source": [
    "np.fromiter(iterable , int)"
   ]
  },
  {
   "cell_type": "code",
   "execution_count": 26,
   "id": "ea40be9e-553b-4b5f-a6b5-d3c56ace348d",
   "metadata": {},
   "outputs": [
    {
     "data": {
      "text/plain": [
       "array([4., 5.])"
      ]
     },
     "execution_count": 26,
     "metadata": {},
     "output_type": "execute_result"
    }
   ],
   "source": [
    "np.fromstring('4 5' ,sep='  '  )"
   ]
  },
  {
   "cell_type": "code",
   "execution_count": 27,
   "id": "b2b9d8cd-5f93-41ed-b746-2a04b4acea46",
   "metadata": {},
   "outputs": [
    {
     "data": {
      "text/plain": [
       "array([4., 5., 6., 7.])"
      ]
     },
     "execution_count": 27,
     "metadata": {},
     "output_type": "execute_result"
    }
   ],
   "source": [
    " np.fromstring('4,5,6,7' , sep=','  )"
   ]
  },
  {
   "cell_type": "code",
   "execution_count": 28,
   "id": "e326735a-b19d-444c-a43b-d3a08b1898e4",
   "metadata": {},
   "outputs": [
    {
     "data": {
      "text/plain": [
       "[1, 2, 3, 4, 5]"
      ]
     },
     "execution_count": 28,
     "metadata": {},
     "output_type": "execute_result"
    }
   ],
   "source": [
    "l "
   ]
  },
  {
   "cell_type": "code",
   "execution_count": 29,
   "id": "bfa2ce1b-0cd1-4812-9281-822a9d54668f",
   "metadata": {},
   "outputs": [],
   "source": [
    "ar = np.array(l)"
   ]
  },
  {
   "cell_type": "code",
   "execution_count": 30,
   "id": "28bc1589-c7e2-42a3-bd74-f3f15382f1ab",
   "metadata": {},
   "outputs": [
    {
     "data": {
      "text/plain": [
       "1"
      ]
     },
     "execution_count": 30,
     "metadata": {},
     "output_type": "execute_result"
    }
   ],
   "source": [
    "ar.ndim"
   ]
  },
  {
   "cell_type": "code",
   "execution_count": 31,
   "id": "4b74203f-6f4a-49ac-a907-868a86f368a0",
   "metadata": {},
   "outputs": [
    {
     "data": {
      "text/plain": [
       "[[[1, 2, 3, 4], [0, 1, 2, 3]]]"
      ]
     },
     "execution_count": 31,
     "metadata": {},
     "output_type": "execute_result"
    }
   ],
   "source": [
    "a= [[[1,2,3,4],[0,1,2,3]]]\n",
    "a"
   ]
  },
  {
   "cell_type": "code",
   "execution_count": 32,
   "id": "57c1b421-0f37-48ce-905c-89cbc042b0fd",
   "metadata": {},
   "outputs": [
    {
     "data": {
      "text/plain": [
       "array([[[1, 2, 3, 4],\n",
       "        [0, 1, 2, 3]]])"
      ]
     },
     "execution_count": 32,
     "metadata": {},
     "output_type": "execute_result"
    }
   ],
   "source": [
    "ar3 =np.array(a)\n",
    "ar3"
   ]
  },
  {
   "cell_type": "code",
   "execution_count": 33,
   "id": "b9ab7f5c-71dd-425b-b0cc-9ef701e0c742",
   "metadata": {},
   "outputs": [
    {
     "data": {
      "text/plain": [
       "3"
      ]
     },
     "execution_count": 33,
     "metadata": {},
     "output_type": "execute_result"
    }
   ],
   "source": [
    "ar3.ndim"
   ]
  },
  {
   "cell_type": "code",
   "execution_count": 34,
   "id": "dbedf09e-4aff-4c63-88c4-6ccefb5da965",
   "metadata": {},
   "outputs": [
    {
     "ename": "AttributeError",
     "evalue": "'numpy.ndarray' object has no attribute 'shap'",
     "output_type": "error",
     "traceback": [
      "\u001b[0;31m---------------------------------------------------------------------------\u001b[0m",
      "\u001b[0;31mAttributeError\u001b[0m                            Traceback (most recent call last)",
      "Cell \u001b[0;32mIn[34], line 1\u001b[0m\n\u001b[0;32m----> 1\u001b[0m \u001b[43mar3\u001b[49m\u001b[38;5;241;43m.\u001b[39;49m\u001b[43mshap\u001b[49m\n",
      "\u001b[0;31mAttributeError\u001b[0m: 'numpy.ndarray' object has no attribute 'shap'"
     ]
    }
   ],
   "source": [
    "ar3.shap"
   ]
  },
  {
   "cell_type": "code",
   "execution_count": 35,
   "id": "d11d8427-2666-41cf-b01f-e181ba189f0e",
   "metadata": {},
   "outputs": [
    {
     "data": {
      "text/plain": [
       "array([1, 2, 3, 4, 5])"
      ]
     },
     "execution_count": 35,
     "metadata": {},
     "output_type": "execute_result"
    }
   ],
   "source": [
    "ar"
   ]
  },
  {
   "cell_type": "code",
   "execution_count": 36,
   "id": "cd2e3f4c-4656-4fa5-ae58-778b20985f70",
   "metadata": {},
   "outputs": [
    {
     "data": {
      "text/plain": [
       "(5,)"
      ]
     },
     "execution_count": 36,
     "metadata": {},
     "output_type": "execute_result"
    }
   ],
   "source": [
    "ar.shape"
   ]
  },
  {
   "cell_type": "code",
   "execution_count": 37,
   "id": "27550a97-69b7-4ac2-9190-2f7281ee354f",
   "metadata": {},
   "outputs": [
    {
     "data": {
      "text/plain": [
       "dtype('int64')"
      ]
     },
     "execution_count": 37,
     "metadata": {},
     "output_type": "execute_result"
    }
   ],
   "source": [
    "ar3.dtype"
   ]
  },
  {
   "cell_type": "code",
   "execution_count": 38,
   "id": "4991b4dc-3c6f-4fb4-adc0-a896cb7bf42a",
   "metadata": {},
   "outputs": [
    {
     "data": {
      "text/plain": [
       "dtype('int64')"
      ]
     },
     "execution_count": 38,
     "metadata": {},
     "output_type": "execute_result"
    }
   ],
   "source": [
    "ar.dtype"
   ]
  },
  {
   "cell_type": "code",
   "execution_count": null,
   "id": "cdc70a5b-bb15-41c0-8270-d197414441bb",
   "metadata": {},
   "outputs": [],
   "source": []
  },
  {
   "cell_type": "code",
   "execution_count": 39,
   "id": "f7cd6676-65ac-4ab1-a95a-73dc24d0238d",
   "metadata": {},
   "outputs": [
    {
     "data": {
      "text/plain": [
       "array([0.1, 1.1, 2.1, 3.1, 4.1, 5.1])"
      ]
     },
     "execution_count": 39,
     "metadata": {},
     "output_type": "execute_result"
    }
   ],
   "source": [
    "np.arange(0.1,6.1)"
   ]
  },
  {
   "cell_type": "code",
   "execution_count": 40,
   "id": "650db247-a531-4aea-b42e-c0f357c9606c",
   "metadata": {},
   "outputs": [
    {
     "data": {
      "text/plain": [
       "[1.2, 1.7, 2.2, 2.7, 3.2, 3.7, 4.2, 4.7, 5.2, 5.7, 6.2]"
      ]
     },
     "execution_count": 40,
     "metadata": {},
     "output_type": "execute_result"
    }
   ],
   "source": [
    "list(np.arange(1.2,6.5,.5))"
   ]
  },
  {
   "cell_type": "code",
   "execution_count": 41,
   "id": "a699fb2c-e93a-4c53-847e-81efc08a85d1",
   "metadata": {},
   "outputs": [
    {
     "data": {
      "text/plain": [
       "array([1.        , 1.45454545, 1.90909091, 2.36363636, 2.81818182,\n",
       "       3.27272727, 3.72727273, 4.18181818, 4.63636364, 5.09090909,\n",
       "       5.54545455, 6.        ])"
      ]
     },
     "execution_count": 41,
     "metadata": {},
     "output_type": "execute_result"
    }
   ],
   "source": [
    "np.linspace(1,6,12)"
   ]
  },
  {
   "cell_type": "code",
   "execution_count": 42,
   "id": "e18023ac-9082-49b1-9211-9a8cf5caee60",
   "metadata": {},
   "outputs": [
    {
     "data": {
      "text/plain": [
       "array([[0., 0., 0., 0.],\n",
       "       [0., 0., 0., 0.],\n",
       "       [0., 0., 0., 0.]])"
      ]
     },
     "execution_count": 42,
     "metadata": {},
     "output_type": "execute_result"
    }
   ],
   "source": [
    "np.zeros((3,4))"
   ]
  },
  {
   "cell_type": "code",
   "execution_count": 43,
   "id": "fb443c03-b4f3-4daf-baa9-155cf53d8e50",
   "metadata": {},
   "outputs": [
    {
     "data": {
      "text/plain": [
       "array([[[0., 0., 0.],\n",
       "        [0., 0., 0.],\n",
       "        [0., 0., 0.],\n",
       "        [0., 0., 0.]],\n",
       "\n",
       "       [[0., 0., 0.],\n",
       "        [0., 0., 0.],\n",
       "        [0., 0., 0.],\n",
       "        [0., 0., 0.]],\n",
       "\n",
       "       [[0., 0., 0.],\n",
       "        [0., 0., 0.],\n",
       "        [0., 0., 0.],\n",
       "        [0., 0., 0.]]])"
      ]
     },
     "execution_count": 43,
     "metadata": {},
     "output_type": "execute_result"
    }
   ],
   "source": [
    "np.zeros((3,4,3))"
   ]
  },
  {
   "cell_type": "code",
   "execution_count": 44,
   "id": "370f2634-1a8c-4681-adb0-1a9335fe31a1",
   "metadata": {},
   "outputs": [],
   "source": [
    "ar = np.zeros((3,4,3,2))"
   ]
  },
  {
   "cell_type": "code",
   "execution_count": 45,
   "id": "dbf9107a-a992-4f61-ab2a-0522e83c351b",
   "metadata": {},
   "outputs": [
    {
     "data": {
      "text/plain": [
       "4"
      ]
     },
     "execution_count": 45,
     "metadata": {},
     "output_type": "execute_result"
    }
   ],
   "source": [
    "ar.ndim"
   ]
  },
  {
   "cell_type": "code",
   "execution_count": 46,
   "id": "be1d3c36-9671-409b-ad08-715fac5ee048",
   "metadata": {},
   "outputs": [
    {
     "data": {
      "text/plain": [
       "array([[[[0., 0.],\n",
       "         [0., 0.],\n",
       "         [0., 0.]],\n",
       "\n",
       "        [[0., 0.],\n",
       "         [0., 0.],\n",
       "         [0., 0.]],\n",
       "\n",
       "        [[0., 0.],\n",
       "         [0., 0.],\n",
       "         [0., 0.]],\n",
       "\n",
       "        [[0., 0.],\n",
       "         [0., 0.],\n",
       "         [0., 0.]]],\n",
       "\n",
       "\n",
       "       [[[0., 0.],\n",
       "         [0., 0.],\n",
       "         [0., 0.]],\n",
       "\n",
       "        [[0., 0.],\n",
       "         [0., 0.],\n",
       "         [0., 0.]],\n",
       "\n",
       "        [[0., 0.],\n",
       "         [0., 0.],\n",
       "         [0., 0.]],\n",
       "\n",
       "        [[0., 0.],\n",
       "         [0., 0.],\n",
       "         [0., 0.]]],\n",
       "\n",
       "\n",
       "       [[[0., 0.],\n",
       "         [0., 0.],\n",
       "         [0., 0.]],\n",
       "\n",
       "        [[0., 0.],\n",
       "         [0., 0.],\n",
       "         [0., 0.]],\n",
       "\n",
       "        [[0., 0.],\n",
       "         [0., 0.],\n",
       "         [0., 0.]],\n",
       "\n",
       "        [[0., 0.],\n",
       "         [0., 0.],\n",
       "         [0., 0.]]]])"
      ]
     },
     "execution_count": 46,
     "metadata": {},
     "output_type": "execute_result"
    }
   ],
   "source": [
    "ar"
   ]
  },
  {
   "cell_type": "code",
   "execution_count": 47,
   "id": "5c07ca51-fd57-4c16-acfe-60cefec8ee32",
   "metadata": {},
   "outputs": [
    {
     "data": {
      "text/plain": [
       "array([[1., 1., 1., 1.],\n",
       "       [1., 1., 1., 1.]])"
      ]
     },
     "execution_count": 47,
     "metadata": {},
     "output_type": "execute_result"
    }
   ],
   "source": [
    "np.ones((2,4))"
   ]
  },
  {
   "cell_type": "code",
   "execution_count": 48,
   "id": "3dcab38a-163f-4d0f-bdb8-6dfe878ca1f4",
   "metadata": {},
   "outputs": [],
   "source": [
    "a=np.ones((2,4,3))"
   ]
  },
  {
   "cell_type": "code",
   "execution_count": 49,
   "id": "fa71b906-46c6-4d03-ace5-5956249b3396",
   "metadata": {},
   "outputs": [],
   "source": [
    "c = a *2"
   ]
  },
  {
   "cell_type": "code",
   "execution_count": 50,
   "id": "daa7f73b-cb3c-4029-9762-8536706ca059",
   "metadata": {},
   "outputs": [
    {
     "data": {
      "text/plain": [
       "array([[[2., 2., 2.],\n",
       "        [2., 2., 2.],\n",
       "        [2., 2., 2.],\n",
       "        [2., 2., 2.]],\n",
       "\n",
       "       [[2., 2., 2.],\n",
       "        [2., 2., 2.],\n",
       "        [2., 2., 2.],\n",
       "        [2., 2., 2.]]])"
      ]
     },
     "execution_count": 50,
     "metadata": {},
     "output_type": "execute_result"
    }
   ],
   "source": [
    "c"
   ]
  },
  {
   "cell_type": "code",
   "execution_count": 51,
   "id": "a6958b0e-39fb-42cb-9fa0-b8b36710b2c9",
   "metadata": {},
   "outputs": [
    {
     "data": {
      "text/plain": [
       "array([[[7., 7., 7.],\n",
       "        [7., 7., 7.],\n",
       "        [7., 7., 7.],\n",
       "        [7., 7., 7.]],\n",
       "\n",
       "       [[7., 7., 7.],\n",
       "        [7., 7., 7.],\n",
       "        [7., 7., 7.],\n",
       "        [7., 7., 7.]]])"
      ]
     },
     "execution_count": 51,
     "metadata": {},
     "output_type": "execute_result"
    }
   ],
   "source": [
    "c+5"
   ]
  },
  {
   "cell_type": "code",
   "execution_count": 52,
   "id": "94744682-f75d-4fef-b0b7-596c713f785e",
   "metadata": {},
   "outputs": [
    {
     "data": {
      "text/plain": [
       "array([[4.65393689e-310, 0.00000000e+000, 0.00000000e+000,\n",
       "        0.00000000e+000],\n",
       "       [0.00000000e+000, 0.00000000e+000, 0.00000000e+000,\n",
       "        0.00000000e+000],\n",
       "       [0.00000000e+000, 0.00000000e+000, 0.00000000e+000,\n",
       "        0.00000000e+000],\n",
       "       [0.00000000e+000, 0.00000000e+000, 0.00000000e+000,\n",
       "        0.00000000e+000],\n",
       "       [0.00000000e+000, 0.00000000e+000,             nan,\n",
       "        0.00000000e+000]])"
      ]
     },
     "execution_count": 52,
     "metadata": {},
     "output_type": "execute_result"
    }
   ],
   "source": [
    "np.empty((5,4))"
   ]
  },
  {
   "cell_type": "code",
   "execution_count": 53,
   "id": "0c6bd898-cfe1-4cb9-b21c-c5bf785daf54",
   "metadata": {},
   "outputs": [
    {
     "data": {
      "text/plain": [
       "array([[1., 0., 0., 0.],\n",
       "       [0., 1., 0., 0.],\n",
       "       [0., 0., 1., 0.],\n",
       "       [0., 0., 0., 1.]])"
      ]
     },
     "execution_count": 53,
     "metadata": {},
     "output_type": "execute_result"
    }
   ],
   "source": [
    "a =np.eye((4)) \n",
    "a"
   ]
  },
  {
   "cell_type": "code",
   "execution_count": 54,
   "id": "ccf14d42-7fc5-4205-a0f4-98190919b026",
   "metadata": {},
   "outputs": [],
   "source": [
    "import pandas as pd"
   ]
  },
  {
   "cell_type": "code",
   "execution_count": 55,
   "id": "22ba02a4-7ed0-475d-8a0e-500e63646101",
   "metadata": {},
   "outputs": [
    {
     "data": {
      "text/html": [
       "<div>\n",
       "<style scoped>\n",
       "    .dataframe tbody tr th:only-of-type {\n",
       "        vertical-align: middle;\n",
       "    }\n",
       "\n",
       "    .dataframe tbody tr th {\n",
       "        vertical-align: top;\n",
       "    }\n",
       "\n",
       "    .dataframe thead th {\n",
       "        text-align: right;\n",
       "    }\n",
       "</style>\n",
       "<table border=\"1\" class=\"dataframe\">\n",
       "  <thead>\n",
       "    <tr style=\"text-align: right;\">\n",
       "      <th></th>\n",
       "      <th>0</th>\n",
       "      <th>1</th>\n",
       "      <th>2</th>\n",
       "      <th>3</th>\n",
       "    </tr>\n",
       "  </thead>\n",
       "  <tbody>\n",
       "    <tr>\n",
       "      <th>0</th>\n",
       "      <td>1.0</td>\n",
       "      <td>0.0</td>\n",
       "      <td>0.0</td>\n",
       "      <td>0.0</td>\n",
       "    </tr>\n",
       "    <tr>\n",
       "      <th>1</th>\n",
       "      <td>0.0</td>\n",
       "      <td>1.0</td>\n",
       "      <td>0.0</td>\n",
       "      <td>0.0</td>\n",
       "    </tr>\n",
       "    <tr>\n",
       "      <th>2</th>\n",
       "      <td>0.0</td>\n",
       "      <td>0.0</td>\n",
       "      <td>1.0</td>\n",
       "      <td>0.0</td>\n",
       "    </tr>\n",
       "    <tr>\n",
       "      <th>3</th>\n",
       "      <td>0.0</td>\n",
       "      <td>0.0</td>\n",
       "      <td>0.0</td>\n",
       "      <td>1.0</td>\n",
       "    </tr>\n",
       "  </tbody>\n",
       "</table>\n",
       "</div>"
      ],
      "text/plain": [
       "     0    1    2    3\n",
       "0  1.0  0.0  0.0  0.0\n",
       "1  0.0  1.0  0.0  0.0\n",
       "2  0.0  0.0  1.0  0.0\n",
       "3  0.0  0.0  0.0  1.0"
      ]
     },
     "execution_count": 55,
     "metadata": {},
     "output_type": "execute_result"
    }
   ],
   "source": [
    "pd.DataFrame(a)"
   ]
  },
  {
   "cell_type": "code",
   "execution_count": 56,
   "id": "deaa44e0-5890-4528-a5f7-68adcafc1e98",
   "metadata": {},
   "outputs": [
    {
     "data": {
      "text/plain": [
       "array([   100.        ,    316.22776602,   1000.        ,   3162.27766017,\n",
       "        10000.        ,  31622.77660168, 100000.        ])"
      ]
     },
     "execution_count": 56,
     "metadata": {},
     "output_type": "execute_result"
    }
   ],
   "source": [
    "np.logspace(2,5 ,7)     # finding logarith  \"2,3,4,5\""
   ]
  },
  {
   "cell_type": "code",
   "execution_count": 57,
   "id": "af7fe6f8-4e08-4f1a-9b40-1617a8804f2f",
   "metadata": {},
   "outputs": [
    {
     "data": {
      "text/plain": [
       "array([[ 0.27193313,  0.2355994 , -0.43413044,  0.23149434],\n",
       "       [-0.31245607,  0.8209889 ,  0.64257773,  0.81899938],\n",
       "       [ 0.11890656,  1.46887301, -0.53414511, -1.14172474]])"
      ]
     },
     "execution_count": 57,
     "metadata": {},
     "output_type": "execute_result"
    }
   ],
   "source": [
    "np.random.randn(3,4)"
   ]
  },
  {
   "cell_type": "code",
   "execution_count": 58,
   "id": "b9cb1e0b-61f3-4e13-9d0a-fbcd5adc5275",
   "metadata": {},
   "outputs": [
    {
     "data": {
      "text/plain": [
       "array([[0.10288044, 0.30861487, 0.50312724, 0.91245998],\n",
       "       [0.28390352, 0.99450079, 0.49203798, 0.54949464],\n",
       "       [0.80049233, 0.92283436, 0.65794235, 0.10870355]])"
      ]
     },
     "execution_count": 58,
     "metadata": {},
     "output_type": "execute_result"
    }
   ],
   "source": [
    "ar = np.random.rand(3,4)\n",
    "ar"
   ]
  },
  {
   "cell_type": "code",
   "execution_count": 59,
   "id": "1d1cc1c5-415a-4346-ace8-b457296ce980",
   "metadata": {},
   "outputs": [],
   "source": [
    "import pandas as pd"
   ]
  },
  {
   "cell_type": "code",
   "execution_count": 60,
   "id": "d95244a7-acee-4cad-8ef4-970c4f7b1e69",
   "metadata": {},
   "outputs": [
    {
     "data": {
      "text/html": [
       "<div>\n",
       "<style scoped>\n",
       "    .dataframe tbody tr th:only-of-type {\n",
       "        vertical-align: middle;\n",
       "    }\n",
       "\n",
       "    .dataframe tbody tr th {\n",
       "        vertical-align: top;\n",
       "    }\n",
       "\n",
       "    .dataframe thead th {\n",
       "        text-align: right;\n",
       "    }\n",
       "</style>\n",
       "<table border=\"1\" class=\"dataframe\">\n",
       "  <thead>\n",
       "    <tr style=\"text-align: right;\">\n",
       "      <th></th>\n",
       "      <th>0</th>\n",
       "      <th>1</th>\n",
       "      <th>2</th>\n",
       "      <th>3</th>\n",
       "    </tr>\n",
       "  </thead>\n",
       "  <tbody>\n",
       "    <tr>\n",
       "      <th>0</th>\n",
       "      <td>0.102880</td>\n",
       "      <td>0.308615</td>\n",
       "      <td>0.503127</td>\n",
       "      <td>0.912460</td>\n",
       "    </tr>\n",
       "    <tr>\n",
       "      <th>1</th>\n",
       "      <td>0.283904</td>\n",
       "      <td>0.994501</td>\n",
       "      <td>0.492038</td>\n",
       "      <td>0.549495</td>\n",
       "    </tr>\n",
       "    <tr>\n",
       "      <th>2</th>\n",
       "      <td>0.800492</td>\n",
       "      <td>0.922834</td>\n",
       "      <td>0.657942</td>\n",
       "      <td>0.108704</td>\n",
       "    </tr>\n",
       "  </tbody>\n",
       "</table>\n",
       "</div>"
      ],
      "text/plain": [
       "          0         1         2         3\n",
       "0  0.102880  0.308615  0.503127  0.912460\n",
       "1  0.283904  0.994501  0.492038  0.549495\n",
       "2  0.800492  0.922834  0.657942  0.108704"
      ]
     },
     "execution_count": 60,
     "metadata": {},
     "output_type": "execute_result"
    }
   ],
   "source": [
    "pd.DataFrame(ar)"
   ]
  },
  {
   "cell_type": "code",
   "execution_count": 61,
   "id": "b01aba3d-3f52-4c37-adf4-235688fe1ab4",
   "metadata": {},
   "outputs": [
    {
     "data": {
      "text/plain": [
       "array([[1., 0., 0., 0.],\n",
       "       [0., 1., 0., 0.],\n",
       "       [0., 0., 1., 0.],\n",
       "       [0., 0., 0., 1.]])"
      ]
     },
     "execution_count": 61,
     "metadata": {},
     "output_type": "execute_result"
    }
   ],
   "source": [
    "a"
   ]
  },
  {
   "cell_type": "code",
   "execution_count": 62,
   "id": "92741286-2b3f-453a-ab85-a91fc8e335ff",
   "metadata": {},
   "outputs": [
    {
     "data": {
      "text/html": [
       "<div>\n",
       "<style scoped>\n",
       "    .dataframe tbody tr th:only-of-type {\n",
       "        vertical-align: middle;\n",
       "    }\n",
       "\n",
       "    .dataframe tbody tr th {\n",
       "        vertical-align: top;\n",
       "    }\n",
       "\n",
       "    .dataframe thead th {\n",
       "        text-align: right;\n",
       "    }\n",
       "</style>\n",
       "<table border=\"1\" class=\"dataframe\">\n",
       "  <thead>\n",
       "    <tr style=\"text-align: right;\">\n",
       "      <th></th>\n",
       "      <th>0</th>\n",
       "      <th>1</th>\n",
       "      <th>2</th>\n",
       "      <th>3</th>\n",
       "    </tr>\n",
       "  </thead>\n",
       "  <tbody>\n",
       "    <tr>\n",
       "      <th>0</th>\n",
       "      <td>1.0</td>\n",
       "      <td>0.0</td>\n",
       "      <td>0.0</td>\n",
       "      <td>0.0</td>\n",
       "    </tr>\n",
       "    <tr>\n",
       "      <th>1</th>\n",
       "      <td>0.0</td>\n",
       "      <td>1.0</td>\n",
       "      <td>0.0</td>\n",
       "      <td>0.0</td>\n",
       "    </tr>\n",
       "    <tr>\n",
       "      <th>2</th>\n",
       "      <td>0.0</td>\n",
       "      <td>0.0</td>\n",
       "      <td>1.0</td>\n",
       "      <td>0.0</td>\n",
       "    </tr>\n",
       "    <tr>\n",
       "      <th>3</th>\n",
       "      <td>0.0</td>\n",
       "      <td>0.0</td>\n",
       "      <td>0.0</td>\n",
       "      <td>1.0</td>\n",
       "    </tr>\n",
       "  </tbody>\n",
       "</table>\n",
       "</div>"
      ],
      "text/plain": [
       "     0    1    2    3\n",
       "0  1.0  0.0  0.0  0.0\n",
       "1  0.0  1.0  0.0  0.0\n",
       "2  0.0  0.0  1.0  0.0\n",
       "3  0.0  0.0  0.0  1.0"
      ]
     },
     "execution_count": 62,
     "metadata": {},
     "output_type": "execute_result"
    }
   ],
   "source": [
    "pd.DataFrame(a)"
   ]
  },
  {
   "cell_type": "code",
   "execution_count": 63,
   "id": "024b058f-7cb0-4a27-a6b6-e9b2e7287d89",
   "metadata": {},
   "outputs": [],
   "source": [
    "ar = np.random.rand(3,4)"
   ]
  },
  {
   "cell_type": "code",
   "execution_count": 64,
   "id": "7360ada8-3347-4676-a57f-16d7195c034b",
   "metadata": {},
   "outputs": [
    {
     "data": {
      "text/plain": [
       "array([[3, 3, 3, ..., 3, 3, 3],\n",
       "       [3, 3, 3, ..., 3, 3, 3],\n",
       "       [3, 3, 3, ..., 3, 3, 3],\n",
       "       ...,\n",
       "       [3, 3, 3, ..., 3, 3, 3],\n",
       "       [3, 3, 3, ..., 3, 3, 3],\n",
       "       [3, 3, 3, ..., 3, 3, 3]])"
      ]
     },
     "execution_count": 64,
     "metadata": {},
     "output_type": "execute_result"
    }
   ],
   "source": [
    "np.random.randint(3,4 ,(50,60))"
   ]
  },
  {
   "cell_type": "code",
   "execution_count": 65,
   "id": "88797ace-7fb5-4893-954a-047917637d29",
   "metadata": {},
   "outputs": [],
   "source": [
    "pd.DataFrame(np.random.randint(3,4 ,(50,60))).to_csv(\"text.csv\")"
   ]
  },
  {
   "cell_type": "code",
   "execution_count": 66,
   "id": "d482dc13-3672-425c-87cd-245246472de7",
   "metadata": {},
   "outputs": [
    {
     "data": {
      "text/plain": [
       "array([[0.19038729, 0.98395413, 0.18357189, 0.84235619],\n",
       "       [0.55576409, 0.22972003, 0.88063783, 0.75915116],\n",
       "       [0.2042978 , 0.25644789, 0.91323835, 0.13398439]])"
      ]
     },
     "execution_count": 66,
     "metadata": {},
     "output_type": "execute_result"
    }
   ],
   "source": [
    "ar = np.random.rand(3,4)\n",
    "ar"
   ]
  },
  {
   "cell_type": "code",
   "execution_count": 67,
   "id": "b84481a4-8ed1-4f77-ad4a-c88d5aa5e7dd",
   "metadata": {},
   "outputs": [
    {
     "data": {
      "text/plain": [
       "array([[0.19038729, 0.98395413],\n",
       "       [0.18357189, 0.84235619],\n",
       "       [0.55576409, 0.22972003],\n",
       "       [0.88063783, 0.75915116],\n",
       "       [0.2042978 , 0.25644789],\n",
       "       [0.91323835, 0.13398439]])"
      ]
     },
     "execution_count": 67,
     "metadata": {},
     "output_type": "execute_result"
    }
   ],
   "source": [
    "s = ar.reshape(6,2)\n",
    "s"
   ]
  },
  {
   "cell_type": "code",
   "execution_count": 68,
   "id": "f1e6889d-964a-4b0c-9ef0-151ec51ca58a",
   "metadata": {},
   "outputs": [
    {
     "data": {
      "text/plain": [
       "0.19038728684585804"
      ]
     },
     "execution_count": 68,
     "metadata": {},
     "output_type": "execute_result"
    }
   ],
   "source": [
    "s[0][0]"
   ]
  },
  {
   "cell_type": "code",
   "execution_count": 69,
   "id": "50824251-c720-4272-8f3e-c9dedb6de381",
   "metadata": {},
   "outputs": [
    {
     "data": {
      "text/plain": [
       "array([0.18357189, 0.55576409, 0.88063783])"
      ]
     },
     "execution_count": 69,
     "metadata": {},
     "output_type": "execute_result"
    }
   ],
   "source": [
    "s[1:4:,0]"
   ]
  },
  {
   "cell_type": "code",
   "execution_count": 70,
   "id": "c469cfab-238f-46cc-b658-0ee0d077741f",
   "metadata": {},
   "outputs": [
    {
     "data": {
      "text/plain": [
       "array([[38, 31, 11, 27, 21],\n",
       "       [20, 35, 25, 16, 23],\n",
       "       [28,  4, 22, 14, 29],\n",
       "       [12, 10, 12, 26, 10]])"
      ]
     },
     "execution_count": 70,
     "metadata": {},
     "output_type": "execute_result"
    }
   ],
   "source": [
    "ar = np.random.randint(3,40 ,(4,5))\n",
    "ar"
   ]
  },
  {
   "cell_type": "code",
   "execution_count": 71,
   "id": "b6f8d947-ec41-4510-9f54-aec4af248007",
   "metadata": {},
   "outputs": [
    {
     "data": {
      "text/plain": [
       "array([[ True,  True, False,  True,  True],\n",
       "       [False,  True,  True, False,  True],\n",
       "       [ True, False,  True, False,  True],\n",
       "       [False, False, False,  True, False]])"
      ]
     },
     "execution_count": 71,
     "metadata": {},
     "output_type": "execute_result"
    }
   ],
   "source": [
    "ar>20   # to collect data is grater than 20"
   ]
  },
  {
   "cell_type": "code",
   "execution_count": 72,
   "id": "41fc7e1a-f37c-434b-b197-983eb14b18ee",
   "metadata": {},
   "outputs": [
    {
     "data": {
      "text/plain": [
       "array([38, 31, 27, 21, 35, 25, 23, 28, 22, 29, 26])"
      ]
     },
     "execution_count": 72,
     "metadata": {},
     "output_type": "execute_result"
    }
   ],
   "source": [
    "ar[ar>20]   #to collect data is grater than 20"
   ]
  },
  {
   "cell_type": "code",
   "execution_count": null,
   "id": "5b17bd57-cdb8-4347-93dd-715dee3e2011",
   "metadata": {},
   "outputs": [],
   "source": []
  },
  {
   "cell_type": "code",
   "execution_count": 73,
   "id": "9e986fd0-c999-4f3d-ad6a-15bf3867ac59",
   "metadata": {},
   "outputs": [
    {
     "data": {
      "text/plain": [
       "array([[25, 16],\n",
       "       [22, 14]])"
      ]
     },
     "execution_count": 73,
     "metadata": {},
     "output_type": "execute_result"
    }
   ],
   "source": [
    "ar[1:3,[2,3]]"
   ]
  },
  {
   "cell_type": "code",
   "execution_count": 74,
   "id": "173f8730-20b2-48c8-bdca-0a08b2d36450",
   "metadata": {},
   "outputs": [
    {
     "data": {
      "text/plain": [
       "array([[14, 29],\n",
       "       [26, 10]])"
      ]
     },
     "execution_count": 74,
     "metadata": {},
     "output_type": "execute_result"
    }
   ],
   "source": [
    "ar[2:4,[3,4]]"
   ]
  },
  {
   "cell_type": "code",
   "execution_count": 75,
   "id": "5cb12044-c450-4056-8dd4-293fa748bacf",
   "metadata": {},
   "outputs": [
    {
     "data": {
      "text/plain": [
       "array([[100,  31,  11,  27,  21],\n",
       "       [ 20,  35,  25,  16,  23],\n",
       "       [ 28,   4,  22,  14,  29],\n",
       "       [ 12,  10,  12,  26,  10]])"
      ]
     },
     "execution_count": 75,
     "metadata": {},
     "output_type": "execute_result"
    }
   ],
   "source": [
    "ar[0][0]=100\n",
    "ar"
   ]
  },
  {
   "cell_type": "code",
   "execution_count": 76,
   "id": "4332a6e3-32ea-47e0-a9f3-8d2b635aaa27",
   "metadata": {},
   "outputs": [
    {
     "data": {
      "text/plain": [
       "array([[ 100,   31,   11,   27,   21],\n",
       "       [  20,   35,   25,   16,   23],\n",
       "       [  28,    4,   22,   14,   29],\n",
       "       [  12,   10,   12,   26, 1000]])"
      ]
     },
     "execution_count": 76,
     "metadata": {},
     "output_type": "execute_result"
    }
   ],
   "source": [
    "ar[3][4] =1000\n",
    "ar"
   ]
  },
  {
   "cell_type": "code",
   "execution_count": 77,
   "id": "51ba9c7d-9f44-4898-9334-0ec0c5dce97a",
   "metadata": {},
   "outputs": [],
   "source": [
    "ar1 = np.random.randint(1,3 ,(3,3))\n",
    "ar2= np.random.randint(1,3 ,(3,3))"
   ]
  },
  {
   "cell_type": "code",
   "execution_count": 78,
   "id": "16153b15-72b3-49b3-bf10-a42725c93282",
   "metadata": {},
   "outputs": [
    {
     "data": {
      "text/plain": [
       "array([[2, 2, 1],\n",
       "       [1, 2, 2],\n",
       "       [1, 1, 2]])"
      ]
     },
     "execution_count": 78,
     "metadata": {},
     "output_type": "execute_result"
    }
   ],
   "source": [
    "ar1"
   ]
  },
  {
   "cell_type": "code",
   "execution_count": 79,
   "id": "a8cc8cc6-a07b-4a8d-9412-de2463de4786",
   "metadata": {},
   "outputs": [
    {
     "data": {
      "text/plain": [
       "array([[2, 2, 2],\n",
       "       [2, 2, 1],\n",
       "       [1, 2, 1]])"
      ]
     },
     "execution_count": 79,
     "metadata": {},
     "output_type": "execute_result"
    }
   ],
   "source": [
    "ar2"
   ]
  },
  {
   "cell_type": "code",
   "execution_count": 80,
   "id": "b14f893d-5efb-4e4a-9853-c05025472640",
   "metadata": {},
   "outputs": [
    {
     "data": {
      "text/plain": [
       "array([[4, 4, 3],\n",
       "       [3, 4, 3],\n",
       "       [2, 3, 3]])"
      ]
     },
     "execution_count": 80,
     "metadata": {},
     "output_type": "execute_result"
    }
   ],
   "source": [
    "ar1+ar2"
   ]
  },
  {
   "cell_type": "code",
   "execution_count": 81,
   "id": "14d94abc-6536-4e3d-9fb4-0b98c7082367",
   "metadata": {},
   "outputs": [
    {
     "data": {
      "text/plain": [
       "array([[4, 4, 2],\n",
       "       [2, 4, 2],\n",
       "       [1, 2, 2]])"
      ]
     },
     "execution_count": 81,
     "metadata": {},
     "output_type": "execute_result"
    }
   ],
   "source": [
    "ar1*ar2"
   ]
  },
  {
   "cell_type": "code",
   "execution_count": 82,
   "id": "45d37db7-c26a-41e1-8bf4-c1cd5cf7f5a2",
   "metadata": {},
   "outputs": [
    {
     "data": {
      "text/plain": [
       "array([[ 9, 10,  7],\n",
       "       [ 8, 10,  6],\n",
       "       [ 6,  8,  5]])"
      ]
     },
     "execution_count": 82,
     "metadata": {},
     "output_type": "execute_result"
    }
   ],
   "source": [
    "ar1@ar2    #Proper mattrix multiplication"
   ]
  },
  {
   "cell_type": "code",
   "execution_count": 83,
   "id": "a28060fd-d2b3-4974-a772-acaefc234325",
   "metadata": {},
   "outputs": [
    {
     "data": {
      "text/plain": [
       "array([[3, 3, 2],\n",
       "       [2, 3, 3],\n",
       "       [2, 2, 3]])"
      ]
     },
     "execution_count": 83,
     "metadata": {},
     "output_type": "execute_result"
    }
   ],
   "source": [
    "ar1+1"
   ]
  },
  {
   "cell_type": "code",
   "execution_count": 84,
   "id": "d8555133-b64a-40ef-8dc7-46e9492e8805",
   "metadata": {},
   "outputs": [
    {
     "data": {
      "text/plain": [
       "array([[4, 4, 4],\n",
       "       [4, 4, 2],\n",
       "       [2, 4, 2]])"
      ]
     },
     "execution_count": 84,
     "metadata": {},
     "output_type": "execute_result"
    }
   ],
   "source": [
    "ar2 *2"
   ]
  },
  {
   "cell_type": "code",
   "execution_count": 85,
   "id": "eab7d7d3-961c-4ece-a016-67caeec0d1e6",
   "metadata": {},
   "outputs": [],
   "source": [
    "ar =np.zeros((4,4))"
   ]
  },
  {
   "cell_type": "code",
   "execution_count": 86,
   "id": "d2b92841-5bb3-4d2e-a8cf-cf1af52fd9c3",
   "metadata": {},
   "outputs": [
    {
     "data": {
      "text/plain": [
       "array([[0., 0., 0., 0.],\n",
       "       [0., 0., 0., 0.],\n",
       "       [0., 0., 0., 0.],\n",
       "       [0., 0., 0., 0.]])"
      ]
     },
     "execution_count": 86,
     "metadata": {},
     "output_type": "execute_result"
    }
   ],
   "source": [
    "ar"
   ]
  },
  {
   "cell_type": "code",
   "execution_count": 87,
   "id": "ddb413a6-49a0-4b3f-bba2-9bdb834bb4be",
   "metadata": {},
   "outputs": [],
   "source": [
    "row = np.array([1,2,3,4])"
   ]
  },
  {
   "cell_type": "code",
   "execution_count": 88,
   "id": "e294b5dc-12d6-4d68-8c32-138c20bcebc7",
   "metadata": {},
   "outputs": [
    {
     "data": {
      "text/plain": [
       "array([[1., 2., 3., 4.],\n",
       "       [1., 2., 3., 4.],\n",
       "       [1., 2., 3., 4.],\n",
       "       [1., 2., 3., 4.]])"
      ]
     },
     "execution_count": 88,
     "metadata": {},
     "output_type": "execute_result"
    }
   ],
   "source": [
    "ar+row"
   ]
  },
  {
   "cell_type": "code",
   "execution_count": 89,
   "id": "352a0df7-384c-4bde-b61c-7e479b94ff9c",
   "metadata": {},
   "outputs": [],
   "source": [
    "col = np.array([[1,2,3,4]])"
   ]
  },
  {
   "cell_type": "code",
   "execution_count": 90,
   "id": "6c22862d-5091-40cd-a392-d8ffc7a92971",
   "metadata": {},
   "outputs": [
    {
     "data": {
      "text/plain": [
       "array([[1., 1., 1., 1.],\n",
       "       [2., 2., 2., 2.],\n",
       "       [3., 3., 3., 3.],\n",
       "       [4., 4., 4., 4.]])"
      ]
     },
     "execution_count": 90,
     "metadata": {},
     "output_type": "execute_result"
    }
   ],
   "source": [
    "ar+col.T"
   ]
  },
  {
   "cell_type": "code",
   "execution_count": 91,
   "id": "d88b2a7d-b5ae-4eb3-becb-36a97ad04166",
   "metadata": {},
   "outputs": [
    {
     "data": {
      "text/plain": [
       "array([[0., 0., 0., 0.],\n",
       "       [0., 0., 0., 0.],\n",
       "       [0., 0., 0., 0.],\n",
       "       [0., 0., 0., 0.]])"
      ]
     },
     "execution_count": 91,
     "metadata": {},
     "output_type": "execute_result"
    }
   ],
   "source": [
    "ar*col.T"
   ]
  },
  {
   "cell_type": "markdown",
   "id": "9b52731d-813b-49e2-97d7-2a1d4700d0e8",
   "metadata": {},
   "source": [
    "## Numpy part two"
   ]
  },
  {
   "cell_type": "code",
   "execution_count": 92,
   "id": "1cf4cec9-69da-4b1a-b879-c5afccdd6e14",
   "metadata": {},
   "outputs": [],
   "source": [
    "# Numpy "
   ]
  },
  {
   "cell_type": "code",
   "execution_count": 93,
   "id": "16264724-3cad-4a88-8dbb-c06cf7e41be6",
   "metadata": {},
   "outputs": [],
   "source": [
    "arr = [1,2,3,4]"
   ]
  },
  {
   "cell_type": "code",
   "execution_count": 94,
   "id": "553c1dda-1db7-446c-a075-e0e440c94bdc",
   "metadata": {},
   "outputs": [
    {
     "data": {
      "text/plain": [
       "[1, 2, 3, 4]"
      ]
     },
     "execution_count": 94,
     "metadata": {},
     "output_type": "execute_result"
    }
   ],
   "source": [
    "arr"
   ]
  },
  {
   "cell_type": "code",
   "execution_count": 95,
   "id": "8d6b4600-10fc-40c2-95b5-81728af073dc",
   "metadata": {},
   "outputs": [
    {
     "data": {
      "text/plain": [
       "array([1, 2, 3, 4])"
      ]
     },
     "execution_count": 95,
     "metadata": {},
     "output_type": "execute_result"
    }
   ],
   "source": [
    "np.array(arr)"
   ]
  },
  {
   "cell_type": "code",
   "execution_count": 96,
   "id": "a380b64b-41cc-4672-9d65-285fbe97f0fe",
   "metadata": {},
   "outputs": [
    {
     "data": {
      "text/plain": [
       "array([ 0.84147098,  0.90929743,  0.14112001, -0.7568025 ])"
      ]
     },
     "execution_count": 96,
     "metadata": {},
     "output_type": "execute_result"
    }
   ],
   "source": [
    "np.sin(arr)"
   ]
  },
  {
   "cell_type": "code",
   "execution_count": 97,
   "id": "75a5b707-cb3d-4f8f-a691-b76be04697a1",
   "metadata": {},
   "outputs": [
    {
     "data": {
      "text/plain": [
       "array([ 0.54030231, -0.41614684, -0.9899925 , -0.65364362])"
      ]
     },
     "execution_count": 97,
     "metadata": {},
     "output_type": "execute_result"
    }
   ],
   "source": [
    "np.cos(arr)"
   ]
  },
  {
   "cell_type": "code",
   "execution_count": 98,
   "id": "71d54a78-34e9-4623-995c-430209b2c133",
   "metadata": {},
   "outputs": [
    {
     "data": {
      "text/plain": [
       "array([ 1,  4,  9, 16])"
      ]
     },
     "execution_count": 98,
     "metadata": {},
     "output_type": "execute_result"
    }
   ],
   "source": [
    "np.power(arr,2)"
   ]
  },
  {
   "cell_type": "code",
   "execution_count": null,
   "id": "add72bd2-cf59-4b08-99c8-097548f6e1fd",
   "metadata": {},
   "outputs": [],
   "source": []
  },
  {
   "cell_type": "code",
   "execution_count": 106,
   "id": "a53f23f7-dfe4-401a-bc59-b5ae728d4468",
   "metadata": {},
   "outputs": [],
   "source": [
    "arr = np.array([1,2,0,0,0,0,3,4,5,5,666])"
   ]
  },
  {
   "cell_type": "code",
   "execution_count": 107,
   "id": "4e5355f9-6f91-46ed-a510-99fd17622712",
   "metadata": {},
   "outputs": [
    {
     "data": {
      "text/plain": [
       "array([  1,   2,   0,   0,   0,   0,   3,   4,   5,   5, 666])"
      ]
     },
     "execution_count": 107,
     "metadata": {},
     "output_type": "execute_result"
    }
   ],
   "source": [
    "arr"
   ]
  },
  {
   "cell_type": "code",
   "execution_count": 108,
   "id": "306e8d84-5fc9-45d6-b0ac-f97c20b5d3c3",
   "metadata": {},
   "outputs": [
    {
     "data": {
      "text/plain": [
       "array([  1,   2,   0,   0,   0,   0,   3,   4,   5,   5, 666], dtype=int16)"
      ]
     },
     "execution_count": 108,
     "metadata": {},
     "output_type": "execute_result"
    }
   ],
   "source": [
    "np.short(arr)"
   ]
  },
  {
   "cell_type": "code",
   "execution_count": 109,
   "id": "c9dac57f-c540-4155-a942-46d0d496b70a",
   "metadata": {},
   "outputs": [
    {
     "data": {
      "text/plain": [
       "10"
      ]
     },
     "execution_count": 109,
     "metadata": {},
     "output_type": "execute_result"
    }
   ],
   "source": [
    "np.searchsorted(arr ,22)"
   ]
  },
  {
   "cell_type": "code",
   "execution_count": 110,
   "id": "9a759ae7-fda1-44db-b0d9-4a09664952e3",
   "metadata": {},
   "outputs": [
    {
     "data": {
      "text/plain": [
       "array([  1,   2,   0,   0,   0,   0,   3,   4,   5,   5, 666])"
      ]
     },
     "execution_count": 110,
     "metadata": {},
     "output_type": "execute_result"
    }
   ],
   "source": [
    "arr"
   ]
  },
  {
   "cell_type": "code",
   "execution_count": 112,
   "id": "b09e6008-96f9-45b1-b2d3-228fe3c50988",
   "metadata": {},
   "outputs": [
    {
     "data": {
      "text/plain": [
       "7"
      ]
     },
     "execution_count": 112,
     "metadata": {},
     "output_type": "execute_result"
    }
   ],
   "source": [
    "np.count_nonzero(arr)"
   ]
  },
  {
   "cell_type": "code",
   "execution_count": 113,
   "id": "746381bd-b3df-4a09-b12f-78912e7a110b",
   "metadata": {},
   "outputs": [
    {
     "data": {
      "text/plain": [
       "(array([ 8,  9, 10]),)"
      ]
     },
     "execution_count": 113,
     "metadata": {},
     "output_type": "execute_result"
    }
   ],
   "source": [
    "np.where(arr > 4)"
   ]
  },
  {
   "cell_type": "code",
   "execution_count": 116,
   "id": "e35b1ed3-280a-4f59-9d40-b9a331794b58",
   "metadata": {},
   "outputs": [
    {
     "data": {
      "text/plain": [
       "array([  4,   5,   5, 666])"
      ]
     },
     "execution_count": 116,
     "metadata": {},
     "output_type": "execute_result"
    }
   ],
   "source": [
    "np.extract(arr>3 ,arr)"
   ]
  },
  {
   "cell_type": "code",
   "execution_count": 117,
   "id": "305d8f03-d042-4394-97e9-b2957a1f7c07",
   "metadata": {},
   "outputs": [],
   "source": [
    "# copy & swap"
   ]
  },
  {
   "cell_type": "code",
   "execution_count": 118,
   "id": "96dc74c0-bc97-4049-a08e-951e74e0281f",
   "metadata": {},
   "outputs": [
    {
     "data": {
      "text/plain": [
       "array([  1,   2,   0,   0,   0,   0,   3,   4,   5,   5, 666])"
      ]
     },
     "execution_count": 118,
     "metadata": {},
     "output_type": "execute_result"
    }
   ],
   "source": [
    "arr"
   ]
  },
  {
   "cell_type": "code",
   "execution_count": null,
   "id": "aeb5629d-f318-4a17-99df-b6a9747dd7af",
   "metadata": {},
   "outputs": [],
   "source": []
  },
  {
   "cell_type": "code",
   "execution_count": 121,
   "id": "4f075ce4-b37d-4cd9-8b31-ec733f3ddd1e",
   "metadata": {},
   "outputs": [],
   "source": [
    "a = np.copy(arr)    ## deep copy"
   ]
  },
  {
   "cell_type": "code",
   "execution_count": 122,
   "id": "7bd4356a-1411-436c-b782-b3240302cbc2",
   "metadata": {},
   "outputs": [
    {
     "data": {
      "text/plain": [
       "array([  1,   2,   0,   0,   0,   0,   3,   4,   5,   5, 666])"
      ]
     },
     "execution_count": 122,
     "metadata": {},
     "output_type": "execute_result"
    }
   ],
   "source": [
    "a"
   ]
  },
  {
   "cell_type": "code",
   "execution_count": 123,
   "id": "300ea4e2-d98c-44a8-b0e4-6c7dee50e403",
   "metadata": {},
   "outputs": [],
   "source": [
    "b = arr   # solo coy\n"
   ]
  },
  {
   "cell_type": "code",
   "execution_count": 124,
   "id": "613b5020-09b7-48fe-8389-3a1e5e53b182",
   "metadata": {},
   "outputs": [
    {
     "data": {
      "text/plain": [
       "array([  1,   2,   0,   0,   0,   0,   3,   4,   5,   5, 666])"
      ]
     },
     "execution_count": 124,
     "metadata": {},
     "output_type": "execute_result"
    }
   ],
   "source": [
    "b"
   ]
  },
  {
   "cell_type": "code",
   "execution_count": 125,
   "id": "2606936e-4436-43c2-9a7e-90eb6e18a1d2",
   "metadata": {},
   "outputs": [],
   "source": [
    "arr[1] = 0"
   ]
  },
  {
   "cell_type": "code",
   "execution_count": 126,
   "id": "c62e0ae9-376a-42fa-ac4f-f92f731404b0",
   "metadata": {},
   "outputs": [
    {
     "data": {
      "text/plain": [
       "array([  1,   0,   0,   0,   0,   0,   3,   4,   5,   5, 666])"
      ]
     },
     "execution_count": 126,
     "metadata": {},
     "output_type": "execute_result"
    }
   ],
   "source": [
    "arr"
   ]
  },
  {
   "cell_type": "code",
   "execution_count": 127,
   "id": "12ac5195-55ff-443b-931f-fe6378d7cdec",
   "metadata": {},
   "outputs": [
    {
     "data": {
      "text/plain": [
       "array([  1,   0,   0,   0,   0,   0,   3,   4,   5,   5, 666])"
      ]
     },
     "execution_count": 127,
     "metadata": {},
     "output_type": "execute_result"
    }
   ],
   "source": [
    "b"
   ]
  },
  {
   "cell_type": "code",
   "execution_count": 128,
   "id": "b5a9b4bd-9f5a-4ed7-b2f7-790ee053d701",
   "metadata": {},
   "outputs": [
    {
     "data": {
      "text/plain": [
       "array([  1,   2,   0,   0,   0,   0,   3,   4,   5,   5, 666])"
      ]
     },
     "execution_count": 128,
     "metadata": {},
     "output_type": "execute_result"
    }
   ],
   "source": [
    "a"
   ]
  },
  {
   "cell_type": "code",
   "execution_count": 129,
   "id": "12310074-306e-4588-b398-e403012d88d1",
   "metadata": {},
   "outputs": [],
   "source": [
    "# numpy - matrix library"
   ]
  },
  {
   "cell_type": "code",
   "execution_count": 130,
   "id": "dcab56c4-d1c5-4fb3-86b5-367de9894a7e",
   "metadata": {},
   "outputs": [],
   "source": [
    "import numpy.matlib as nm"
   ]
  },
  {
   "cell_type": "code",
   "execution_count": 131,
   "id": "5cb18e4d-8fbd-433b-ba77-24a1a59666b4",
   "metadata": {},
   "outputs": [
    {
     "data": {
      "text/plain": [
       "matrix([[0., 0., 0., 0., 0.]])"
      ]
     },
     "execution_count": 131,
     "metadata": {},
     "output_type": "execute_result"
    }
   ],
   "source": [
    "nm.zeros(5)"
   ]
  },
  {
   "cell_type": "code",
   "execution_count": 133,
   "id": "26f55b25-6150-4f16-9da0-0d4d97fb14a8",
   "metadata": {},
   "outputs": [
    {
     "data": {
      "text/plain": [
       "matrix([[0., 0., 0., 0., 0.],\n",
       "        [0., 0., 0., 0., 0.],\n",
       "        [0., 0., 0., 0., 0.],\n",
       "        [0., 0., 0., 0., 0.],\n",
       "        [0., 0., 0., 0., 0.]])"
      ]
     },
     "execution_count": 133,
     "metadata": {},
     "output_type": "execute_result"
    }
   ],
   "source": [
    "nm.zeros((5,5))"
   ]
  },
  {
   "cell_type": "code",
   "execution_count": 136,
   "id": "fee61509-cab2-4435-8526-58b19f1767b7",
   "metadata": {},
   "outputs": [
    {
     "data": {
      "text/plain": [
       "matrix([[1., 0., 0., 0., 0.],\n",
       "        [0., 1., 0., 0., 0.],\n",
       "        [0., 0., 1., 0., 0.],\n",
       "        [0., 0., 0., 1., 0.],\n",
       "        [0., 0., 0., 0., 1.]])"
      ]
     },
     "execution_count": 136,
     "metadata": {},
     "output_type": "execute_result"
    }
   ],
   "source": [
    "nm.eye(5)"
   ]
  },
  {
   "cell_type": "code",
   "execution_count": 137,
   "id": "79719d7f-da9d-433d-af64-f29caacb9378",
   "metadata": {},
   "outputs": [],
   "source": [
    "# linear algebra"
   ]
  },
  {
   "cell_type": "code",
   "execution_count": 143,
   "id": "0893537e-89b9-45b6-b69f-48e751cb0aa1",
   "metadata": {},
   "outputs": [],
   "source": [
    "arr1 = np.random.randint(3,4,(4,4))\n",
    "arr2 = np.random.randint(2,3 , (4,4))"
   ]
  },
  {
   "cell_type": "code",
   "execution_count": 144,
   "id": "731d17ea-6f1b-47a6-a2dd-8aff5086dee4",
   "metadata": {},
   "outputs": [
    {
     "data": {
      "text/plain": [
       "array([[3, 3, 3, 3],\n",
       "       [3, 3, 3, 3],\n",
       "       [3, 3, 3, 3],\n",
       "       [3, 3, 3, 3]])"
      ]
     },
     "execution_count": 144,
     "metadata": {},
     "output_type": "execute_result"
    }
   ],
   "source": [
    "arr1"
   ]
  },
  {
   "cell_type": "code",
   "execution_count": 145,
   "id": "bbc73707-f9ea-43e2-ad38-1bdf9b9c9ef2",
   "metadata": {},
   "outputs": [
    {
     "data": {
      "text/plain": [
       "array([[2, 2, 2, 2],\n",
       "       [2, 2, 2, 2],\n",
       "       [2, 2, 2, 2],\n",
       "       [2, 2, 2, 2]])"
      ]
     },
     "execution_count": 145,
     "metadata": {},
     "output_type": "execute_result"
    }
   ],
   "source": [
    "arr2"
   ]
  },
  {
   "cell_type": "code",
   "execution_count": 146,
   "id": "d7bc6637-3ece-43bd-95fe-11c16bb30f4d",
   "metadata": {},
   "outputs": [
    {
     "data": {
      "text/plain": [
       "array([[24, 24, 24, 24],\n",
       "       [24, 24, 24, 24],\n",
       "       [24, 24, 24, 24],\n",
       "       [24, 24, 24, 24]])"
      ]
     },
     "execution_count": 146,
     "metadata": {},
     "output_type": "execute_result"
    }
   ],
   "source": [
    "np.dot(arr1,arr2 )   # for DOT product"
   ]
  },
  {
   "cell_type": "code",
   "execution_count": 148,
   "id": "32d829bb-95bd-4661-b3ae-d3975f472aac",
   "metadata": {},
   "outputs": [
    {
     "data": {
      "text/plain": [
       "array([[24, 24, 24, 24],\n",
       "       [24, 24, 24, 24],\n",
       "       [24, 24, 24, 24],\n",
       "       [24, 24, 24, 24]])"
      ]
     },
     "execution_count": 148,
     "metadata": {},
     "output_type": "execute_result"
    }
   ],
   "source": [
    "arr1@arr2   #also find dot product"
   ]
  },
  {
   "cell_type": "code",
   "execution_count": 7,
   "id": "01e7ecd9-5714-4d7d-9f26-917c608ced04",
   "metadata": {},
   "outputs": [],
   "source": [
    "arr1 = np.random.randint(1,2,(2,2))\n",
    "arr2 = np.random.randint(1,2,(2,2))"
   ]
  },
  {
   "cell_type": "code",
   "execution_count": 9,
   "id": "183cc782-a6bf-4f8f-936d-0d8514ad46fb",
   "metadata": {},
   "outputs": [
    {
     "data": {
      "text/plain": [
       "array([[1, 1],\n",
       "       [1, 1]])"
      ]
     },
     "execution_count": 9,
     "metadata": {},
     "output_type": "execute_result"
    }
   ],
   "source": [
    "arr1"
   ]
  },
  {
   "cell_type": "code",
   "execution_count": 10,
   "id": "44d83b9b-3a97-424c-9daa-52bdaa690230",
   "metadata": {},
   "outputs": [
    {
     "data": {
      "text/plain": [
       "array([[1, 1],\n",
       "       [1, 1]])"
      ]
     },
     "execution_count": 10,
     "metadata": {},
     "output_type": "execute_result"
    }
   ],
   "source": [
    "arr2"
   ]
  },
  {
   "cell_type": "code",
   "execution_count": 11,
   "id": "69d979fa-05bf-44ad-9846-9952328995b8",
   "metadata": {},
   "outputs": [
    {
     "data": {
      "text/plain": [
       "array([[2, 2],\n",
       "       [2, 2]])"
      ]
     },
     "execution_count": 11,
     "metadata": {},
     "output_type": "execute_result"
    }
   ],
   "source": [
    "arr1@arr2"
   ]
  },
  {
   "cell_type": "code",
   "execution_count": null,
   "id": "efc46ce4-5e2e-423e-b27e-1f6d8e7640f1",
   "metadata": {},
   "outputs": [],
   "source": []
  }
 ],
 "metadata": {
  "kernelspec": {
   "display_name": "Python 3 (ipykernel)",
   "language": "python",
   "name": "python3"
  },
  "language_info": {
   "codemirror_mode": {
    "name": "ipython",
    "version": 3
   },
   "file_extension": ".py",
   "mimetype": "text/x-python",
   "name": "python",
   "nbconvert_exporter": "python",
   "pygments_lexer": "ipython3",
   "version": "3.10.8"
  }
 },
 "nbformat": 4,
 "nbformat_minor": 5
}
